{
 "cells": [
  {
   "cell_type": "markdown",
   "metadata": {},
   "source": [
    "### What is Data Visualization?\n",
    "> Data Visualization is the practice of translating information into a visual context, such as map and graph, to make data easier to for human brain to analyze and pull insights from it."
   ]
  },
  {
   "cell_type": "markdown",
   "metadata": {},
   "source": [
    "### Tools use for Data Visualization:\n",
    "\n",
    "- Matplotlib\n",
    "- Plotly\n",
    "- Seaborn\n",
    "- Pandas"
   ]
  },
  {
   "cell_type": "markdown",
   "metadata": {},
   "source": [
    "### What is Seaborn?\n",
    "\n",
    "> Seaborn is a data visualziation library built from matplotlib and integrated with pandas for data frame in python"
   ]
  },
  {
   "cell_type": "markdown",
   "metadata": {},
   "source": [
    "### What we can do in Seaborn?\n",
    "\n",
    "> We can create multiple graphs with Seaborn:\n",
    "\n",
    "- Scatter Plot\n",
    "- Heat Map\n",
    "- Lineplot\n",
    "- Histogram\n",
    "- Boxplot\n",
    "- Barplot"
   ]
  },
  {
   "cell_type": "markdown",
   "metadata": {},
   "source": [
    "### Seaborn vs Matplotlib\n",
    "\n",
    "Seaborn is more comfortable in handling Pandas data frames. It uses basic sets of methods to provide beautiful graphics in python. Matplotlib works efficiently with data frames and arrays. Seaborn is used to create facsinated graphs while Matplotlib is used for basic graphs"
   ]
  },
  {
   "cell_type": "markdown",
   "metadata": {},
   "source": [
    "### Dependencies of Seaborn\n",
    "\n",
    "> Seaborn has following dependencies:\n",
    "  \n",
    "- Python\n",
    "- NumPy\n",
    "- Matplotlib\n",
    "- Scipy\n",
    "- Pandas"
   ]
  },
  {
   "cell_type": "markdown",
   "metadata": {},
   "source": []
  }
 ],
 "metadata": {
  "kernelspec": {
   "display_name": "Python 3.9.7 ('base')",
   "language": "python",
   "name": "python3"
  },
  "language_info": {
   "name": "python",
   "version": "3.9.7"
  },
  "orig_nbformat": 4,
  "vscode": {
   "interpreter": {
    "hash": "8de2fd29472d8520918489d2f7698684b73d156be72bb6a0af57d9dbbf4a217c"
   }
  }
 },
 "nbformat": 4,
 "nbformat_minor": 2
}
